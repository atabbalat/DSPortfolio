{
 "cells": [
  {
   "attachments": {},
   "cell_type": "markdown",
   "metadata": {
    "id": "437VW1fAYlP7"
   },
   "source": [
    "### NN - Part 1\n",
    "### Abed Tabbalat"
   ]
  },
  {
   "cell_type": "code",
   "execution_count": 1,
   "metadata": {
    "colab": {
     "base_uri": "https://localhost:8080/"
    },
    "executionInfo": {
     "elapsed": 36124,
     "status": "ok",
     "timestamp": 1679355522178,
     "user": {
      "displayName": "Abed Tabbalat",
      "userId": "12186395273444324238"
     },
     "user_tz": 240
    },
    "id": "SJslSf5PYhm0",
    "outputId": "a35c1d87-5d0c-424c-a0d7-120cf45482e1"
   },
   "outputs": [
    {
     "name": "stdout",
     "output_type": "stream",
     "text": [
      "Mounted at /content/drive\n",
      "/content/drive/My Drive/DSC650/Original/dsc650/assignments/assignment06\n"
     ]
    }
   ],
   "source": [
    "# Mounting drive\n",
    "import os\n",
    "from google.colab import drive\n",
    "drive.mount('/content/drive', force_remount = True)\n",
    "os.chdir('/content/drive/My Drive/DSC650/Original/dsc650/assignments/assignment06')\n",
    "!pwd"
   ]
  },
  {
   "cell_type": "code",
   "execution_count": 2,
   "metadata": {
    "executionInfo": {
     "elapsed": 2508,
     "status": "ok",
     "timestamp": 1679355565544,
     "user": {
      "displayName": "Abed Tabbalat",
      "userId": "12186395273444324238"
     },
     "user_tz": 240
    },
    "id": "azS4HBu3Y-dt"
   },
   "outputs": [],
   "source": [
    "# Imports\n",
    "import pandas as pd\n",
    "import numpy as np\n",
    "import matplotlib.pyplot as plt\n",
    "import pickle\n",
    "from keras import layers, models\n",
    "from keras.datasets import mnist\n",
    "from keras.models import Sequential\n",
    "from keras.layers import Dense, Dropout, Activation\n",
    "from keras.utils import np_utils, to_categorical"
   ]
  },
  {
   "attachments": {},
   "cell_type": "markdown",
   "metadata": {
    "id": "X_c6viCDZQV1"
   },
   "source": [
    "## Importing Data"
   ]
  },
  {
   "cell_type": "code",
   "execution_count": 3,
   "metadata": {
    "colab": {
     "base_uri": "https://localhost:8080/"
    },
    "executionInfo": {
     "elapsed": 1212,
     "status": "ok",
     "timestamp": 1679355772382,
     "user": {
      "displayName": "Abed Tabbalat",
      "userId": "12186395273444324238"
     },
     "user_tz": 240
    },
    "id": "Y08jiiIEZS8j",
    "outputId": "f05eee4a-e77d-412a-8a99-c4dc69873694"
   },
   "outputs": [
    {
     "name": "stdout",
     "output_type": "stream",
     "text": [
      "Downloading data from https://storage.googleapis.com/tensorflow/tf-keras-datasets/mnist.npz\n",
      "11490434/11490434 [==============================] - 1s 0us/step\n"
     ]
    }
   ],
   "source": [
    "(train_images, train_labels), (test_images, test_labels) = mnist.load_data()"
   ]
  },
  {
   "attachments": {},
   "cell_type": "markdown",
   "metadata": {
    "id": "ScPvuHxyZZJO"
   },
   "source": [
    "## Data Prep"
   ]
  },
  {
   "cell_type": "code",
   "execution_count": 4,
   "metadata": {
    "colab": {
     "base_uri": "https://localhost:8080/"
    },
    "executionInfo": {
     "elapsed": 243,
     "status": "ok",
     "timestamp": 1679355775167,
     "user": {
      "displayName": "Abed Tabbalat",
      "userId": "12186395273444324238"
     },
     "user_tz": 240
    },
    "id": "2oV-s1_WZa8a",
    "outputId": "f9a4128b-df48-4226-ea71-23427107f3b3"
   },
   "outputs": [
    {
     "name": "stdout",
     "output_type": "stream",
     "text": [
      "train_images: (60000, 28, 28)\n",
      "test_images: (10000, 28, 28)\n",
      "train_labels: (60000,)\n",
      "test_labels: (10000,)\n"
     ]
    }
   ],
   "source": [
    "# print the shape of the data sets\n",
    "print(f'train_images: {train_images.shape}')\n",
    "print(f'test_images: {test_images.shape}')\n",
    "print(f'train_labels: {train_labels.shape}')\n",
    "print(f'test_labels: {test_labels.shape}')"
   ]
  },
  {
   "cell_type": "code",
   "execution_count": 5,
   "metadata": {
    "colab": {
     "base_uri": "https://localhost:8080/",
     "height": 298
    },
    "executionInfo": {
     "elapsed": 708,
     "status": "ok",
     "timestamp": 1679355781578,
     "user": {
      "displayName": "Abed Tabbalat",
      "userId": "12186395273444324238"
     },
     "user_tz": 240
    },
    "id": "EjnrrJJnZgLN",
    "outputId": "0a21cf68-5011-4dea-afc2-4bba30cb924e"
   },
   "outputs": [
    {
     "data": {
      "text/plain": [
       "Text(0.5, 1.0, '5')"
      ]
     },
     "execution_count": 5,
     "metadata": {},
     "output_type": "execute_result"
    },
    {
     "data": {
      "image/png": "[encoded data removed]",
      "text/plain": [
       "<Figure size 432x288 with 1 Axes>"
      ]
     },
     "metadata": {
      "needs_background": "light"
     },
     "output_type": "display_data"
    }
   ],
   "source": [
    "# plot the first image in the training set\n",
    "plt.imshow(train_images[0], cmap = 'gray')\n",
    "plt.title(train_labels[0])"
   ]
  },
  {
   "cell_type": "code",
   "execution_count": 6,
   "metadata": {
    "executionInfo": {
     "elapsed": 239,
     "status": "ok",
     "timestamp": 1679355784635,
     "user": {
      "displayName": "Abed Tabbalat",
      "userId": "12186395273444324238"
     },
     "user_tz": 240
    },
    "id": "aA_BcQ8WZ2bp"
   },
   "outputs": [],
   "source": [
    "# reshape datasets\n",
    "train_images = train_images.reshape((60000, 28, 28, 1))\n",
    "test_images = test_images.reshape((10000, 28, 28, 1))\n",
    "\n",
    "# normalize datasets\n",
    "train_images = train_images.astype('float32') / 255\n",
    "test_images = test_images.astype('float32') / 255\n",
    "\n",
    "# convert labels to numeric\n",
    "train_labels = to_categorical(train_labels, 10)\n",
    "test_labels = to_categorical(test_labels, 10)\n",
    "\n",
    "# split training set into training and validation sets\n",
    "x_val = train_images[:10000]\n",
    "partial_x_train = train_images[10000:]\n",
    "y_val = train_labels[:10000]\n",
    "partial_y_train = train_labels[10000:]"
   ]
  },
  {
   "attachments": {},
   "cell_type": "markdown",
   "metadata": {
    "id": "1IxUt-zJZ8ZA"
   },
   "source": [
    "## Model"
   ]
  },
  {
   "cell_type": "code",
   "execution_count": 7,
   "metadata": {
    "executionInfo": {
     "elapsed": 820,
     "status": "ok",
     "timestamp": 1679355915049,
     "user": {
      "displayName": "Abed Tabbalat",
      "userId": "12186395273444324238"
     },
     "user_tz": 240
    },
    "id": "AFk50rsnaCWK"
   },
   "outputs": [],
   "source": [
    "# Instantiate a convnet\n",
    "model = models.Sequential()\n",
    "model.add(layers.Conv2D(32, (3, 3), activation = 'relu', input_shape = (28, 28, 1)))\n",
    "model.add(layers.MaxPooling2D((2,2)))\n",
    "model.add(layers.Conv2D(64, (3, 3), activation = 'relu'))\n",
    "model.add(layers.MaxPooling2D((2,2)))\n",
    "model.add(layers.Conv2D(64, (3, 3), activation = 'relu'))\n",
    "\n",
    "# Add a classifier on top of the convnet\n",
    "model.add(layers.Flatten())\n",
    "model.add(layers.Dense(64, activation = 'relu'))\n",
    "model.add(layers.Dense(10, activation = 'softmax'))\n",
    "\n",
    "model.compile(optimizer = 'rmsprop', loss = 'categorical_crossentropy', metrics = ['accuracy'])"
   ]
  },
  {
   "cell_type": "code",
   "execution_count": 8,
   "metadata": {
    "colab": {
     "base_uri": "https://localhost:8080/"
    },
    "executionInfo": {
     "elapsed": 183555,
     "status": "ok",
     "timestamp": 1679356197386,
     "user": {
      "displayName": "Abed Tabbalat",
      "userId": "12186395273444324238"
     },
     "user_tz": 240
    },
    "id": "LpQcDvA8abLb",
    "outputId": "225bec90-9757-411a-8d84-ccd4562709a1"
   },
   "outputs": [
    {
     "name": "stdout",
     "output_type": "stream",
     "text": [
      "Epoch 1/5\n",
      "782/782 [==============================] - 36s 44ms/step - loss: 0.2111 - accuracy: 0.9338 - val_loss: 0.0712 - val_accuracy: 0.9791\n",
      "Epoch 2/5\n",
      "782/782 [==============================] - 38s 49ms/step - loss: 0.0523 - accuracy: 0.9838 - val_loss: 0.0560 - val_accuracy: 0.9832\n",
      "Epoch 3/5\n",
      "782/782 [==============================] - 36s 45ms/step - loss: 0.0347 - accuracy: 0.9895 - val_loss: 0.0452 - val_accuracy: 0.9867\n",
      "Epoch 4/5\n",
      "782/782 [==============================] - 36s 46ms/step - loss: 0.0264 - accuracy: 0.9918 - val_loss: 0.0381 - val_accuracy: 0.9893\n",
      "Epoch 5/5\n",
      "782/782 [==============================] - 38s 49ms/step - loss: 0.0198 - accuracy: 0.9936 - val_loss: 0.0381 - val_accuracy: 0.9900\n"
     ]
    }
   ],
   "source": [
    "# Train the model using a portion of the training data and validate on a validation set\n",
    "# Store the training history in a variable called `history`\n",
    "history = model.fit(\n",
    "    partial_x_train,  # The input features for the training data\n",
    "    partial_y_train,  # The corresponding target labels for the training data\n",
    "    epochs=5,         # The number of times to iterate over the entire training dataset\n",
    "    batch_size=64,    # The number of samples per batch for each update of the model weights\n",
    "    validation_data=(x_val, y_val)  # The data to use for validation during training\n",
    ")"
   ]
  },
  {
   "cell_type": "code",
   "execution_count": 12,
   "metadata": {
    "colab": {
     "base_uri": "https://localhost:8080/",
     "height": 404
    },
    "executionInfo": {
     "elapsed": 883,
     "status": "ok",
     "timestamp": 1679356676034,
     "user": {
      "displayName": "Abed Tabbalat",
      "userId": "12186395273444324238"
     },
     "user_tz": 240
    },
    "id": "Kl_XKigvbAVA",
    "outputId": "41d94aa9-ca55-4c37-a7b0-4ea0d06a48ac"
   },
   "outputs": [
    {
     "data": {
      "image/png": "[encoded data removed]",
      "text/plain": [
       "<Figure size 720x432 with 1 Axes>"
      ]
     },
     "metadata": {
      "needs_background": "light"
     },
     "output_type": "display_data"
    }
   ],
   "source": [
    "# Extract the history data from the model training\n",
    "history_dict = history.history\n",
    "\n",
    "# Create a new figure for the plot\n",
    "plt.figure(figsize=(10, 6))\n",
    "\n",
    "# Get the loss values for both training and validation data\n",
    "loss_values = history_dict['loss']\n",
    "val_loss_values = history_dict['val_loss']\n",
    "\n",
    "# Generate the x-axis values for the plot\n",
    "epochs = range(1, len(loss_values) + 1)\n",
    "\n",
    "# Plot the training and validation loss values against the epoch number\n",
    "plt.plot(epochs, loss_values, 'r', label='Training loss')\n",
    "plt.plot(epochs, val_loss_values, 'b', label='Validation loss')\n",
    "\n",
    "# Set the title and axis labels for the plot\n",
    "plt.title('Training and Validation Loss')\n",
    "plt.xlabel('Epochs')\n",
    "plt.ylabel('Loss')\n",
    "\n",
    "# Add a legend to the plot\n",
    "plt.legend()\n",
    "\n",
    "# Save the figure to a file in the \"results/mnist\" directory\n",
    "fig = plt.gcf()\n",
    "fig.savefig('results/mnist/train_val_loss.png')\n",
    "\n",
    "# Display the plot\n",
    "plt.show()"
   ]
  },
  {
   "cell_type": "code",
   "execution_count": 13,
   "metadata": {
    "colab": {
     "base_uri": "https://localhost:8080/",
     "height": 421
    },
    "executionInfo": {
     "elapsed": 571,
     "status": "ok",
     "timestamp": 1679356689388,
     "user": {
      "displayName": "Abed Tabbalat",
      "userId": "12186395273444324238"
     },
     "user_tz": 240
    },
    "id": "4EKj5B-8beqv",
    "outputId": "fd42c0a1-5d18-45ad-9ab5-5d32e7768540"
   },
   "outputs": [
    {
     "data": {
      "text/plain": [
       "<Figure size 432x288 with 0 Axes>"
      ]
     },
     "metadata": {},
     "output_type": "display_data"
    },
    {
     "data": {
      "image/png": "[encoded data removed]",
      "text/plain": [
       "<Figure size 720x432 with 1 Axes>"
      ]
     },
     "metadata": {
      "needs_background": "light"
     },
     "output_type": "display_data"
    }
   ],
   "source": [
    "# Clear the current figure to ensure that we're starting with a clean slate\n",
    "plt.clf()\n",
    "\n",
    "# Create a new figure for the plot\n",
    "plt.figure(figsize=(10, 6))\n",
    "\n",
    "# Get the accuracy values for both training and validation data\n",
    "acc_values = history_dict['accuracy']\n",
    "val_acc_values = history_dict['val_accuracy']\n",
    "\n",
    "# Generate the x-axis values for the plot\n",
    "epochs = range(1, len(loss_values) + 1)\n",
    "\n",
    "# Plot the training and validation accuracy values against the epoch number\n",
    "plt.plot(epochs, acc_values, 'r', label='Training accuracy')\n",
    "plt.plot(epochs, val_acc_values, 'b', label='Validation accuracy')\n",
    "\n",
    "# Set the title and axis labels for the plot\n",
    "plt.title('Training and Validation Accuracy')\n",
    "plt.xlabel('Epochs')\n",
    "plt.ylabel('Accuracy')\n",
    "\n",
    "# Add a legend to the plot\n",
    "plt.legend()\n",
    "\n",
    "# Save the figure to a file in the \"results/mnist\" directory\n",
    "fig = plt.gcf()\n",
    "fig.savefig('results/mnist/train_val_accuracy.png')\n",
    "\n",
    "# Display the plot\n",
    "plt.show()"
   ]
  },
  {
   "cell_type": "code",
   "execution_count": 14,
   "metadata": {
    "colab": {
     "base_uri": "https://localhost:8080/"
    },
    "executionInfo": {
     "elapsed": 3400,
     "status": "ok",
     "timestamp": 1679356697528,
     "user": {
      "displayName": "Abed Tabbalat",
      "userId": "12186395273444324238"
     },
     "user_tz": 240
    },
    "id": "IGPXu268bmL3",
    "outputId": "4f503d32-d62a-4ba1-c12c-a2b7055dfa0c"
   },
   "outputs": [
    {
     "name": "stdout",
     "output_type": "stream",
     "text": [
      "313/313 [==============================] - 3s 10ms/step - loss: 0.0301 - accuracy: 0.9889\n"
     ]
    }
   ],
   "source": [
    "# Evaluate the model on the test data and store the test loss and accuracy in two separate variables\n",
    "test_loss, test_acc = model.evaluate(test_images, test_labels)"
   ]
  },
  {
   "cell_type": "code",
   "execution_count": 15,
   "metadata": {
    "colab": {
     "base_uri": "https://localhost:8080/"
    },
    "executionInfo": {
     "elapsed": 229,
     "status": "ok",
     "timestamp": 1679356700284,
     "user": {
      "displayName": "Abed Tabbalat",
      "userId": "12186395273444324238"
     },
     "user_tz": 240
    },
    "id": "B-wGLfmLbt7v",
    "outputId": "8b7849a0-1d18-4fe0-d673-9b63e0728927"
   },
   "outputs": [
    {
     "name": "stdout",
     "output_type": "stream",
     "text": [
      "Test accuracy: 98.9%\n",
      "Test loss: 0.030\n"
     ]
    }
   ],
   "source": [
    "# Print the test accuracy as a percentage rounded to one decimal place\n",
    "print(f'Test accuracy: {test_acc * 100:.1f}%')\n",
    "\n",
    "# Print the test loss rounded to three decimal places\n",
    "print(f'Test loss: {test_loss:.3f}')"
   ]
  },
  {
   "cell_type": "code",
   "execution_count": 16,
   "metadata": {
    "executionInfo": {
     "elapsed": 232,
     "status": "ok",
     "timestamp": 1679356704792,
     "user": {
      "displayName": "Abed Tabbalat",
      "userId": "12186395273444324238"
     },
     "user_tz": 240
    },
    "id": "G0OClvO4b3T3"
   },
   "outputs": [],
   "source": [
    "# Save the trained model and training history to a file in the \"results/mnist\" directory\n",
    "model.save('results/mnist/mnist.h5', history)\n",
    "\n",
    "# Save the test accuracy, test loss, and training history dictionary to a pickled file in the \"results/mnist\" directory\n",
    "pickle.dump({\n",
    "    'test_accuracy': test_acc,   # The accuracy of the model on the test data\n",
    "    'test_loss': test_loss,      # The loss of the model on the test data\n",
    "    'history_dict': history_dict # The history data of the model training\n",
    "}, open(\"results/mnist/training_metrics\", \"wb\"))"
   ]
  }
 ],
 "metadata": {
  "colab": {
   "authorship_tag": "ABX9TyOVkBhiS5BLysE7sFgTjT+T",
   "provenance": [],
   "toc_visible": true
  },
  "kernelspec": {
   "display_name": "Python 3 (ipykernel)",
   "language": "python",
   "name": "python3"
  },
  "language_info": {
   "codemirror_mode": {
    "name": "ipython",
    "version": 3
   },
   "file_extension": ".py",
   "mimetype": "text/x-python",
   "name": "python",
   "nbconvert_exporter": "python",
   "pygments_lexer": "ipython3",
   "version": "3.9.12"
  }
 },
 "nbformat": 4,
 "nbformat_minor": 4
}
